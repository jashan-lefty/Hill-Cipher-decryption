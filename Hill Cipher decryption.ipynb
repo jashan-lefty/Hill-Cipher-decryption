{
 "cells": [
  {
   "cell_type": "code",
   "execution_count": 27,
   "metadata": {},
   "outputs": [],
   "source": [
    "import numpy as np\n",
    "\n",
    "# Function 1: Convert ciphertext to s-tuples of numbers modulo 26\n",
    "def hill_function_1(ciphertext, s):\n",
    "    # Convert each letter in the ciphertext to its corresponding number (A=0, B=1, ..., Z=25)\n",
    "    numbers = [ord(char) - ord('A') for char in ciphertext]\n",
    "    \n",
    "    # Split the list of numbers into s-tuples\n",
    "    tuples = [numbers[i:i + s] for i in range(0, len(numbers), s)]\n",
    "    \n",
    "    return tuples\n",
    "\n",
    "\n",
    "# Helper function to calculate the modular inverse of a matrix modulo 26\n",
    "def matrix_mod_inverse(matrix, modulus):\n",
    "    # Calculate the determinant and its modular inverse\n",
    "    det = int(round(np.linalg.det(matrix)))  # Determinant of the matrix\n",
    "    det_inv = pow(det, -1, modulus)  # Modular inverse of the determinant modulo 26\n",
    "\n",
    "    # Calculate the adjugate (classical adjoint) of the matrix\n",
    "    adjugate_matrix = np.array([\n",
    "        [matrix[1][1], -matrix[0][1]],\n",
    "        [-matrix[1][0], matrix[0][0]]\n",
    "    ])\n",
    "    \n",
    "    # Apply modular arithmetic to the adjugate matrix and multiply by determinant inverse\n",
    "    inv_matrix = (det_inv * adjugate_matrix) % modulus\n",
    "    \n",
    "    return inv_matrix.astype(int)\n",
    "\n",
    "# Function 2: Decrypt the ciphertext using the s-tuples and the decryption matrix\n",
    "def hill_function_2(tuples, matrix, modulus=26):\n",
    "    # Calculate the inverse of the matrix modulo 26\n",
    "    inv_matrix = matrix_mod_inverse(matrix, modulus)\n",
    "    \n",
    "    # Initialize the list to hold the decrypted text\n",
    "    decrypted_text = []\n",
    "    \n",
    "    # Multiply each tuple by the inverse matrix and reduce modulo 26\n",
    "    for tuple_ in tuples:\n",
    "        decrypted_tuple = np.dot(inv_matrix, tuple_) % modulus\n",
    "        decrypted_tuple = [int(x) % modulus for x in decrypted_tuple]\n",
    "        \n",
    "        # Convert the numbers back to letters and join them as a string\n",
    "        decrypted_text.append(''.join(chr(x + ord('A')) for x in decrypted_tuple))\n",
    "    \n",
    "    return ''.join(decrypted_text)\n",
    "\n",
    "\n",
    "\n"
   ]
  },
  {
   "cell_type": "code",
   "execution_count": 30,
   "metadata": {},
   "outputs": [
    {
     "name": "stdout",
     "output_type": "stream",
     "text": [
      "Ciphertext tuples: [[24, 8], [5, 25], [12, 0]]\n",
      "Decrypted text: EUREKA\n"
     ]
    }
   ],
   "source": [
    "ciphertext = \"YIFZMA\"\n",
    "matrix = Matrix([[9, 2], [13, 3]])\n",
    "s = 2\n",
    "\n",
    "# Apply Hill Function 1\n",
    "tuples = hill_function_1(ciphertext, s)\n",
    "print(\"Ciphertext tuples:\", tuples)\n",
    "\n",
    "# Apply Hill Function 2\n",
    "decrypted_text = hill_function_2(tuples, matrix)\n",
    "print(\"Decrypted text:\", decrypted_text)\n"
   ]
  },
  {
   "cell_type": "code",
   "execution_count": 31,
   "metadata": {},
   "outputs": [
    {
     "name": "stdout",
     "output_type": "stream",
     "text": [
      "Ciphertext tuples: [[6, 4], [25, 23], [3, 18]]\n",
      "Decrypted text: SOLVED\n"
     ]
    }
   ],
   "source": [
    "ciphertext = \"GEZXDS\"\n",
    "matrix = Matrix([[12, 11], [3, 2]])\n",
    "s = 2\n",
    "\n",
    "# Apply Hill Function 1\n",
    "tuples = hill_function_1(ciphertext, s)\n",
    "print(\"Ciphertext tuples:\", tuples)\n",
    "\n",
    "# Apply Hill Function 2\n",
    "decrypted_text = hill_function_2(tuples, matrix)\n",
    "print(\"Decrypted text:\", decrypted_text)\n"
   ]
  },
  {
   "cell_type": "code",
   "execution_count": null,
   "metadata": {},
   "outputs": [],
   "source": []
  }
 ],
 "metadata": {
  "kernelspec": {
   "display_name": "SageMath 9.3",
   "language": "sage",
   "name": "sagemath"
  },
  "language_info": {
   "codemirror_mode": {
    "name": "ipython",
    "version": 3
   },
   "file_extension": ".py",
   "mimetype": "text/x-python",
   "name": "python",
   "nbconvert_exporter": "python",
   "pygments_lexer": "ipython3",
   "version": "3.7.10"
  }
 },
 "nbformat": 4,
 "nbformat_minor": 4
}
